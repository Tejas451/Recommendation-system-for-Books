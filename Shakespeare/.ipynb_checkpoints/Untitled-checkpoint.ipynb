{
 "cells": [
  {
   "cell_type": "markdown",
   "metadata": {},
   "source": [
    "# Importing the libraries"
   ]
  },
  {
   "cell_type": "code",
   "execution_count": 1,
   "metadata": {},
   "outputs": [],
   "source": [
    "import pandas as pd\n",
    "import glob\n",
    "import os\n",
    "from sklearn.feature_extraction.text import TfidfVectorizer\n",
    "from sklearn.metrics.pairwise import linear_kernel"
   ]
  },
  {
   "cell_type": "markdown",
   "metadata": {},
   "source": [
    "We have two folders one having shakespeares novels and one containing short stories. we will first work with Shakespeare novels and try to provide recommendations for each of his novels.\n",
    "\n",
    "the below piece of code will read each of text files in current folder (in this case \"Shakespeare\"). Each text file corresponds to one of his novels. this will be written into a Dataframe with name of the text files used as title column for the dataframe"
   ]
  },
  {
   "cell_type": "code",
   "execution_count": 2,
   "metadata": {
    "scrolled": false
   },
   "outputs": [
    {
     "data": {
      "text/html": [
       "<div>\n",
       "<style scoped>\n",
       "    .dataframe tbody tr th:only-of-type {\n",
       "        vertical-align: middle;\n",
       "    }\n",
       "\n",
       "    .dataframe tbody tr th {\n",
       "        vertical-align: top;\n",
       "    }\n",
       "\n",
       "    .dataframe thead th {\n",
       "        text-align: right;\n",
       "    }\n",
       "</style>\n",
       "<table border=\"1\" class=\"dataframe\">\n",
       "  <thead>\n",
       "    <tr style=\"text-align: right;\">\n",
       "      <th></th>\n",
       "      <th>Title</th>\n",
       "      <th>overview</th>\n",
       "    </tr>\n",
       "  </thead>\n",
       "  <tbody>\n",
       "    <tr>\n",
       "      <th>0</th>\n",
       "      <td>Coriolanus</td>\n",
       "      <td>ACT I\\nSCENE I. Rome. A street.\\nEnter a compa...</td>\n",
       "    </tr>\n",
       "    <tr>\n",
       "      <th>1</th>\n",
       "      <td>HenryV</td>\n",
       "      <td>SCENE I. London. An ante-chamber in the KING'S...</td>\n",
       "    </tr>\n",
       "    <tr>\n",
       "      <th>2</th>\n",
       "      <td>King_Lear</td>\n",
       "      <td>KENT\\nI thought the king had more affected the...</td>\n",
       "    </tr>\n",
       "    <tr>\n",
       "      <th>3</th>\n",
       "      <td>Othello</td>\n",
       "      <td>SCENE I. Venice. A street.\\nEnter RODERIGO and...</td>\n",
       "    </tr>\n",
       "    <tr>\n",
       "      <th>4</th>\n",
       "      <td>Tempest</td>\n",
       "      <td>SCENE I. On a ship at sea: a tempestuous noise...</td>\n",
       "    </tr>\n",
       "  </tbody>\n",
       "</table>\n",
       "</div>"
      ],
      "text/plain": [
       "        Title                                           overview\n",
       "0  Coriolanus  ACT I\\nSCENE I. Rome. A street.\\nEnter a compa...\n",
       "1      HenryV  SCENE I. London. An ante-chamber in the KING'S...\n",
       "2   King_Lear  KENT\\nI thought the king had more affected the...\n",
       "3     Othello  SCENE I. Venice. A street.\\nEnter RODERIGO and...\n",
       "4     Tempest  SCENE I. On a ship at sea: a tempestuous noise..."
      ]
     },
     "execution_count": 2,
     "metadata": {},
     "output_type": "execute_result"
    }
   ],
   "source": [
    "#prepping the data\n",
    "\n",
    "file_list = glob.glob(os.path.join(os.getcwd(), \"*.txt\"))\n",
    "corpus = []\n",
    "title=[]\n",
    "for file_path in file_list:\n",
    "    with open(file_path) as f_input:\n",
    "        corpus.append(f_input.read())\n",
    "        title.append(os.path.splitext(os.path.basename(file_path))[0])\n",
    "    \n",
    "df =pd.DataFrame({'overview': corpus,'Title':title})\n",
    "df.head()"
   ]
  },
  {
   "cell_type": "markdown",
   "metadata": {},
   "source": [
    "the above dataframe has a piece of Shakespeares work and the name of the novel. the data is now ready."
   ]
  },
  {
   "cell_type": "markdown",
   "metadata": {},
   "source": [
    "# Analysing data"
   ]
  },
  {
   "cell_type": "markdown",
   "metadata": {},
   "source": [
    "We will now try to find the \"cosine distance\" of 1 Novel with the rest of the novels. the cosine distance determines the similarity between two texts"
   ]
  },
  {
   "cell_type": "code",
   "execution_count": 6,
   "metadata": {},
   "outputs": [
    {
     "name": "stdout",
     "output_type": "stream",
     "text": [
      "(5, 3911)\n",
      "[[1.         0.12389193 0.11738927 0.13646613 0.11251281]\n",
      " [0.12389193 1.         0.29409406 0.13379463 0.14639482]\n",
      " [0.11738927 0.29409406 1.         0.15575269 0.17578303]\n",
      " [0.13646613 0.13379463 0.15575269 1.         0.17776455]\n",
      " [0.11251281 0.14639482 0.17578303 0.17776455 1.        ]]\n"
     ]
    }
   ],
   "source": [
    "#Define a TF-IDF Vectorizer Object. Remove all english stop words such as 'the', 'a'\n",
    "tfidf = TfidfVectorizer(stop_words='english')\n",
    "\n",
    "#Replace NaN with an empty string\n",
    "df['overview'] = df['overview'].fillna('')\n",
    "\n",
    "#Construct the required TF-IDF matrix by fitting and transforming the data\n",
    "tfidf_matrix = tfidf.fit_transform(df['overview'])\n",
    "\n",
    "#Output the shape of tfidf_matrix\n",
    "print(tfidf_matrix.shape)\n",
    "\n",
    "# Compute the cosine similarity matrix\n",
    "cosine_sim = linear_kernel(tfidf_matrix, tfidf_matrix)\n",
    "print(cosine_sim)\n",
    "indices = pd.Series(df.index, index=df['Title']).drop_duplicates()\n"
   ]
  },
  {
   "cell_type": "markdown",
   "metadata": {},
   "source": [
    "The above matrix shows the cosine distance i.e the similarity among the five novels with each other.\n",
    "The diagonal elements show the similarity of a novel with itself.\n",
    "Now that we have the similarity parameters, we will define Function that takes in book title as input and outputs most similar books as a list.\n",
    "\n",
    "For starters we will print only 3 most similar book titles. "
   ]
  },
  {
   "cell_type": "code",
   "execution_count": 7,
   "metadata": {},
   "outputs": [],
   "source": [
    "def get_recommendations(title, cosine_sim=cosine_sim):\n",
    "    # Get the index of the text that matches the title\n",
    "    idx = indices[title]\n",
    "\n",
    "    # Get the pairwsie similarity scores of all texts with that text\n",
    "    sim_scores = list(enumerate(cosine_sim[idx]))\n",
    "\n",
    "    # Sort the text based on the similarity scores\n",
    "    sim_scores = sorted(sim_scores, key=lambda x: x[1], reverse=True)\n",
    "\n",
    "    # Get the scores of the 10 most similar text\n",
    "    sim_scores = sim_scores[1:4]\n",
    "\n",
    "    # Get the text indices\n",
    "    text_indices = [i[0] for i in sim_scores]\n",
    "\n",
    "    # Return the top 3 most similar texts\n",
    "    return df['Title'].iloc[text_indices].tolist()"
   ]
  },
  {
   "cell_type": "markdown",
   "metadata": {},
   "source": [
    "Now we are done with the implementation. to get the recommended 3 books for one particular book we now only need to call the above function with the name of the novel."
   ]
  },
  {
   "cell_type": "code",
   "execution_count": 8,
   "metadata": {},
   "outputs": [
    {
     "data": {
      "text/plain": [
       "['King_Lear', 'Tempest', 'Othello']"
      ]
     },
     "execution_count": 8,
     "metadata": {},
     "output_type": "execute_result"
    }
   ],
   "source": [
    "get_recommendations('HenryV')"
   ]
  },
  {
   "cell_type": "code",
   "execution_count": 9,
   "metadata": {},
   "outputs": [
    {
     "data": {
      "text/plain": [
       "['Tempest', 'King_Lear', 'Coriolanus']"
      ]
     },
     "execution_count": 9,
     "metadata": {},
     "output_type": "execute_result"
    }
   ],
   "source": [
    "get_recommendations('Othello')"
   ]
  },
  {
   "cell_type": "code",
   "execution_count": 10,
   "metadata": {},
   "outputs": [
    {
     "data": {
      "text/plain": [
       "['HenryV', 'Tempest', 'Othello']"
      ]
     },
     "execution_count": 10,
     "metadata": {},
     "output_type": "execute_result"
    }
   ],
   "source": [
    "get_recommendations('King_Lear')"
   ]
  },
  {
   "cell_type": "code",
   "execution_count": null,
   "metadata": {},
   "outputs": [],
   "source": []
  }
 ],
 "metadata": {
  "kernelspec": {
   "display_name": "Python [conda env:Anaconda3]",
   "language": "python",
   "name": "conda-env-Anaconda3-py"
  },
  "language_info": {
   "codemirror_mode": {
    "name": "ipython",
    "version": 3
   },
   "file_extension": ".py",
   "mimetype": "text/x-python",
   "name": "python",
   "nbconvert_exporter": "python",
   "pygments_lexer": "ipython3",
   "version": "3.5.5"
  }
 },
 "nbformat": 4,
 "nbformat_minor": 2
}
