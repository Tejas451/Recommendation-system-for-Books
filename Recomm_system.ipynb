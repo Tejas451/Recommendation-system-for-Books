{
 "cells": [
  {
   "cell_type": "markdown",
   "metadata": {},
   "source": [
    "# Importing the libraries"
   ]
  },
  {
   "cell_type": "code",
   "execution_count": 1,
   "metadata": {},
   "outputs": [],
   "source": [
    "import pandas as pd\n",
    "import glob\n",
    "import os\n",
    "from sklearn.feature_extraction.text import TfidfVectorizer\n",
    "from sklearn.metrics.pairwise import linear_kernel"
   ]
  },
  {
   "cell_type": "markdown",
   "metadata": {},
   "source": [
    "We have two folders one having shakespeares novels and one containing short stories. we will first work with Shakespeare novels and try to provide recommendations for each of his novels.\n",
    "\n",
    "the below piece of code will read each of text files in current folder (in this case \"Shakespeare\"). Each text file corresponds to one of his novels. this will be written into a Dataframe with name of the text files used as title column for the dataframe"
   ]
  },
  {
   "cell_type": "code",
   "execution_count": 2,
   "metadata": {
    "scrolled": false
   },
   "outputs": [
    {
     "data": {
      "text/html": [
       "<div>\n",
       "<style scoped>\n",
       "    .dataframe tbody tr th:only-of-type {\n",
       "        vertical-align: middle;\n",
       "    }\n",
       "\n",
       "    .dataframe tbody tr th {\n",
       "        vertical-align: top;\n",
       "    }\n",
       "\n",
       "    .dataframe thead th {\n",
       "        text-align: right;\n",
       "    }\n",
       "</style>\n",
       "<table border=\"1\" class=\"dataframe\">\n",
       "  <thead>\n",
       "    <tr style=\"text-align: right;\">\n",
       "      <th></th>\n",
       "      <th>Title</th>\n",
       "      <th>overview</th>\n",
       "    </tr>\n",
       "  </thead>\n",
       "  <tbody>\n",
       "    <tr>\n",
       "      <th>0</th>\n",
       "      <td>Coriolanus</td>\n",
       "      <td>ACT I\\nSCENE I. Rome. A street.\\nEnter a compa...</td>\n",
       "    </tr>\n",
       "    <tr>\n",
       "      <th>1</th>\n",
       "      <td>HenryV</td>\n",
       "      <td>SCENE I. London. An ante-chamber in the KING'S...</td>\n",
       "    </tr>\n",
       "    <tr>\n",
       "      <th>2</th>\n",
       "      <td>King_Lear</td>\n",
       "      <td>KENT\\nI thought the king had more affected the...</td>\n",
       "    </tr>\n",
       "    <tr>\n",
       "      <th>3</th>\n",
       "      <td>Othello</td>\n",
       "      <td>SCENE I. Venice. A street.\\nEnter RODERIGO and...</td>\n",
       "    </tr>\n",
       "    <tr>\n",
       "      <th>4</th>\n",
       "      <td>Tempest</td>\n",
       "      <td>SCENE I. On a ship at sea: a tempestuous noise...</td>\n",
       "    </tr>\n",
       "  </tbody>\n",
       "</table>\n",
       "</div>"
      ],
      "text/plain": [
       "        Title                                           overview\n",
       "0  Coriolanus  ACT I\\nSCENE I. Rome. A street.\\nEnter a compa...\n",
       "1      HenryV  SCENE I. London. An ante-chamber in the KING'S...\n",
       "2   King_Lear  KENT\\nI thought the king had more affected the...\n",
       "3     Othello  SCENE I. Venice. A street.\\nEnter RODERIGO and...\n",
       "4     Tempest  SCENE I. On a ship at sea: a tempestuous noise..."
      ]
     },
     "execution_count": 2,
     "metadata": {},
     "output_type": "execute_result"
    }
   ],
   "source": [
    "#prepping the data\n",
    "\n",
    "file_list = glob.glob(os.path.join(os.getcwd(),\"Shakespeare\", \"*.txt\"))\n",
    "corpus = []\n",
    "title=[]\n",
    "for file_path in file_list:\n",
    "    with open(file_path) as f_input:\n",
    "        corpus.append(f_input.read())\n",
    "        title.append(os.path.splitext(os.path.basename(file_path))[0])\n",
    "    \n",
    "df =pd.DataFrame({'overview': corpus,'Title':title})\n",
    "df.head()"
   ]
  },
  {
   "cell_type": "markdown",
   "metadata": {},
   "source": [
    "the above dataframe has a piece of Shakespeares work and the name of the novel. the data is now ready."
   ]
  },
  {
   "cell_type": "markdown",
   "metadata": {},
   "source": [
    "# Analysing data"
   ]
  },
  {
   "cell_type": "markdown",
   "metadata": {},
   "source": [
    "We will now try to find the \"cosine distance\" of 1 Novel with the rest of the novels. the cosine distance determines the similarity between two texts"
   ]
  },
  {
   "cell_type": "code",
   "execution_count": 6,
   "metadata": {},
   "outputs": [
    {
     "name": "stdout",
     "output_type": "stream",
     "text": [
      "(5, 3911)\n",
      "[[1.         0.12389193 0.11738927 0.13646613 0.11251281]\n",
      " [0.12389193 1.         0.29409406 0.13379463 0.14639482]\n",
      " [0.11738927 0.29409406 1.         0.15575269 0.17578303]\n",
      " [0.13646613 0.13379463 0.15575269 1.         0.17776455]\n",
      " [0.11251281 0.14639482 0.17578303 0.17776455 1.        ]]\n"
     ]
    }
   ],
   "source": [
    "#Define a TF-IDF Vectorizer Object. Remove all english stop words such as 'the', 'a'\n",
    "tfidf = TfidfVectorizer(stop_words='english')\n",
    "\n",
    "#Replace NaN with an empty string\n",
    "df['overview'] = df['overview'].fillna('')\n",
    "\n",
    "#Construct the required TF-IDF matrix by fitting and transforming the data\n",
    "tfidf_matrix = tfidf.fit_transform(df['overview'])\n",
    "\n",
    "#Output the shape of tfidf_matrix\n",
    "print(tfidf_matrix.shape)\n",
    "\n",
    "# Compute the cosine similarity matrix\n",
    "cosine_sim = linear_kernel(tfidf_matrix, tfidf_matrix)\n",
    "print(cosine_sim)\n",
    "indices = pd.Series(df.index, index=df['Title']).drop_duplicates()\n"
   ]
  },
  {
   "cell_type": "markdown",
   "metadata": {},
   "source": [
    "The above matrix shows the cosine distance i.e the similarity among the five novels with each other.\n",
    "The diagonal elements show the similarity of a novel with itself.\n",
    "Now that we have the similarity parameters, we will define Function that takes in book title as input and outputs most similar books as a list.\n",
    "\n",
    "For starters we will print only 3 most similar book titles. "
   ]
  },
  {
   "cell_type": "code",
   "execution_count": 12,
   "metadata": {},
   "outputs": [],
   "source": [
    "def get_recommendations(title, cosine_sim=cosine_sim):\n",
    "    # Get the index of the text that matches the title\n",
    "    idx = indices[title]\n",
    "\n",
    "    # Get the pairwsie similarity scores of all texts with that text\n",
    "    sim_scores = list(enumerate(cosine_sim[idx]))\n",
    "\n",
    "    # Sort the text based on the similarity scores\n",
    "    sim_scores = sorted(sim_scores, key=lambda x: x[1], reverse=True)\n",
    "\n",
    "    # Get the scores of the 10 most similar text\n",
    "    sim_scores = sim_scores[1:4]\n",
    "\n",
    "    # Get the text indices\n",
    "    text_indices = [i[0] for i in sim_scores]\n",
    "\n",
    "    # Return the top 3 most similar texts\n",
    "    return df['Title'].iloc[text_indices].tolist()"
   ]
  },
  {
   "cell_type": "markdown",
   "metadata": {},
   "source": [
    "Now we are done with the implementation. to get the recommended 3 books for one particular book we now only need to call the above function with the name of the novel."
   ]
  },
  {
   "cell_type": "code",
   "execution_count": 8,
   "metadata": {},
   "outputs": [
    {
     "data": {
      "text/plain": [
       "['King_Lear', 'Tempest', 'Othello']"
      ]
     },
     "execution_count": 8,
     "metadata": {},
     "output_type": "execute_result"
    }
   ],
   "source": [
    "get_recommendations('HenryV')"
   ]
  },
  {
   "cell_type": "code",
   "execution_count": 9,
   "metadata": {},
   "outputs": [
    {
     "data": {
      "text/plain": [
       "['Tempest', 'King_Lear', 'Coriolanus']"
      ]
     },
     "execution_count": 9,
     "metadata": {},
     "output_type": "execute_result"
    }
   ],
   "source": [
    "get_recommendations('Othello')"
   ]
  },
  {
   "cell_type": "code",
   "execution_count": 10,
   "metadata": {},
   "outputs": [
    {
     "data": {
      "text/plain": [
       "['HenryV', 'Tempest', 'Othello']"
      ]
     },
     "execution_count": 10,
     "metadata": {},
     "output_type": "execute_result"
    }
   ],
   "source": [
    "get_recommendations('King_Lear')"
   ]
  },
  {
   "cell_type": "markdown",
   "metadata": {},
   "source": [
    "lets do the same for short stories."
   ]
  },
  {
   "cell_type": "code",
   "execution_count": 8,
   "metadata": {},
   "outputs": [
    {
     "data": {
      "text/html": [
       "<div>\n",
       "<style scoped>\n",
       "    .dataframe tbody tr th:only-of-type {\n",
       "        vertical-align: middle;\n",
       "    }\n",
       "\n",
       "    .dataframe tbody tr th {\n",
       "        vertical-align: top;\n",
       "    }\n",
       "\n",
       "    .dataframe thead th {\n",
       "        text-align: right;\n",
       "    }\n",
       "</style>\n",
       "<table border=\"1\" class=\"dataframe\">\n",
       "  <thead>\n",
       "    <tr style=\"text-align: right;\">\n",
       "      <th></th>\n",
       "      <th>Title</th>\n",
       "      <th>overview</th>\n",
       "    </tr>\n",
       "  </thead>\n",
       "  <tbody>\n",
       "    <tr>\n",
       "      <th>0</th>\n",
       "      <td>The_Ass_and_the_Lapdog</td>\n",
       "      <td>A Farmer one day came to the stables to see to...</td>\n",
       "    </tr>\n",
       "    <tr>\n",
       "      <th>1</th>\n",
       "      <td>The_Cock_and_the_Pearl</td>\n",
       "      <td>A cock was once strutting up and down the farm...</td>\n",
       "    </tr>\n",
       "    <tr>\n",
       "      <th>2</th>\n",
       "      <td>The_Dog_and_the_Shadow</td>\n",
       "      <td>It happened that a Dog had got a piece of meat...</td>\n",
       "    </tr>\n",
       "    <tr>\n",
       "      <th>3</th>\n",
       "      <td>The_Fox_and_the_Crow</td>\n",
       "      <td>A Fox once saw a Crow fly off with a piece of ...</td>\n",
       "    </tr>\n",
       "    <tr>\n",
       "      <th>4</th>\n",
       "      <td>The_Frogs_Desiring_a_King</td>\n",
       "      <td>The Frogs were living as happy as could be in ...</td>\n",
       "    </tr>\n",
       "    <tr>\n",
       "      <th>5</th>\n",
       "      <td>The_Lions_Share</td>\n",
       "      <td>The Lion went once a-hunting along with the Fo...</td>\n",
       "    </tr>\n",
       "    <tr>\n",
       "      <th>6</th>\n",
       "      <td>The_Lion_and_the_Mouse</td>\n",
       "      <td>Once when a Lion was asleep a little Mouse beg...</td>\n",
       "    </tr>\n",
       "    <tr>\n",
       "      <th>7</th>\n",
       "      <td>The_Man_and_the_Serpent</td>\n",
       "      <td>A Countryman's son by accident trod upon a Ser...</td>\n",
       "    </tr>\n",
       "    <tr>\n",
       "      <th>8</th>\n",
       "      <td>The_Sick_Lion</td>\n",
       "      <td>A Lion had come to the end of his days and lay...</td>\n",
       "    </tr>\n",
       "    <tr>\n",
       "      <th>9</th>\n",
       "      <td>The_Town_Mouse_and_the_Country_Mouse</td>\n",
       "      <td>Now you must know that a Town Mouse once upon ...</td>\n",
       "    </tr>\n",
       "    <tr>\n",
       "      <th>10</th>\n",
       "      <td>The_Wolf_and_the_Crane</td>\n",
       "      <td>A Wolf had been gorging on an animal he had ki...</td>\n",
       "    </tr>\n",
       "    <tr>\n",
       "      <th>11</th>\n",
       "      <td>The_Wolf_and_the_Lamb</td>\n",
       "      <td>Once upon a time a Wolf was lapping at a sprin...</td>\n",
       "    </tr>\n",
       "  </tbody>\n",
       "</table>\n",
       "</div>"
      ],
      "text/plain": [
       "                                   Title  \\\n",
       "0                 The_Ass_and_the_Lapdog   \n",
       "1                 The_Cock_and_the_Pearl   \n",
       "2                 The_Dog_and_the_Shadow   \n",
       "3                   The_Fox_and_the_Crow   \n",
       "4              The_Frogs_Desiring_a_King   \n",
       "5                        The_Lions_Share   \n",
       "6                 The_Lion_and_the_Mouse   \n",
       "7                The_Man_and_the_Serpent   \n",
       "8                          The_Sick_Lion   \n",
       "9   The_Town_Mouse_and_the_Country_Mouse   \n",
       "10                The_Wolf_and_the_Crane   \n",
       "11                 The_Wolf_and_the_Lamb   \n",
       "\n",
       "                                             overview  \n",
       "0   A Farmer one day came to the stables to see to...  \n",
       "1   A cock was once strutting up and down the farm...  \n",
       "2   It happened that a Dog had got a piece of meat...  \n",
       "3   A Fox once saw a Crow fly off with a piece of ...  \n",
       "4   The Frogs were living as happy as could be in ...  \n",
       "5   The Lion went once a-hunting along with the Fo...  \n",
       "6   Once when a Lion was asleep a little Mouse beg...  \n",
       "7   A Countryman's son by accident trod upon a Ser...  \n",
       "8   A Lion had come to the end of his days and lay...  \n",
       "9   Now you must know that a Town Mouse once upon ...  \n",
       "10  A Wolf had been gorging on an animal he had ki...  \n",
       "11  Once upon a time a Wolf was lapping at a sprin...  "
      ]
     },
     "execution_count": 8,
     "metadata": {},
     "output_type": "execute_result"
    }
   ],
   "source": [
    "#prepping the data\n",
    "\n",
    "file_list = glob.glob(os.path.join(os.getcwd(),\"Fables\", \"*.txt\"))\n",
    "corpus = []\n",
    "title=[]\n",
    "for file_path in file_list:\n",
    "    with open(file_path) as f_input:\n",
    "        corpus.append(f_input.read())\n",
    "        title.append(os.path.splitext(os.path.basename(file_path))[0])\n",
    "    \n",
    "df =pd.DataFrame({'overview': corpus,'Title':title})\n",
    "df"
   ]
  },
  {
   "cell_type": "markdown",
   "metadata": {},
   "source": [
    "we have 11 short stories in this folder. again for each of these stories will find the its similarity coefficient with the rest of the stories."
   ]
  },
  {
   "cell_type": "code",
   "execution_count": 9,
   "metadata": {},
   "outputs": [
    {
     "name": "stdout",
     "output_type": "stream",
     "text": [
      "(12, 507)\n",
      "[[1.         0.01647195 0.         0.0304829  0.04200542 0.02647074\n",
      "  0.02089552 0.10256527 0.07171731 0.01259892 0.00930028 0.0138581 ]\n",
      " [0.01647195 1.         0.01404645 0.01573528 0.02780893 0.00462484\n",
      "  0.01817086 0.         0.         0.01038527 0.01305219 0.01603284]\n",
      " [0.         0.01404645 1.         0.13014916 0.00659072 0.\n",
      "  0.02417539 0.01739183 0.02075071 0.00569457 0.04538892 0.05637561]\n",
      " [0.0304829  0.01573528 0.13014916 1.         0.02691441 0.06565164\n",
      "  0.05704785 0.03868229 0.01322035 0.05375994 0.0394276  0.04144642]\n",
      " [0.04200542 0.02780893 0.00659072 0.02691441 1.         0.03320781\n",
      "  0.09499263 0.01587927 0.03746393 0.04097817 0.00777447 0.04379759]\n",
      " [0.02647074 0.00462484 0.         0.06565164 0.03320781 1.\n",
      "  0.16071774 0.03585887 0.14799073 0.02976599 0.0450469  0.02849021]\n",
      " [0.02089552 0.01817086 0.02417539 0.05704785 0.09499263 0.16071774\n",
      "  1.         0.0691921  0.1512687  0.18082082 0.02695763 0.09631125]\n",
      " [0.10256527 0.         0.01739183 0.03868229 0.01587927 0.03585887\n",
      "  0.0691921  1.         0.06132802 0.03228628 0.02707266 0.03732024]\n",
      " [0.07171731 0.         0.02075071 0.01322035 0.03746393 0.14799073\n",
      "  0.1512687  0.06132802 1.         0.01722768 0.00480625 0.02467119]\n",
      " [0.01259892 0.01038527 0.00569457 0.05375994 0.04097817 0.02976599\n",
      "  0.18082082 0.03228628 0.01722768 1.         0.05612422 0.04691195]\n",
      " [0.00930028 0.01305219 0.04538892 0.0394276  0.00777447 0.0450469\n",
      "  0.02695763 0.02707266 0.00480625 0.05612422 1.         0.11433762]\n",
      " [0.0138581  0.01603284 0.05637561 0.04144642 0.04379759 0.02849021\n",
      "  0.09631125 0.03732024 0.02467119 0.04691195 0.11433762 1.        ]]\n"
     ]
    }
   ],
   "source": [
    "#Define a TF-IDF Vectorizer Object. Remove all english stop words such as 'the', 'a'\n",
    "tfidf = TfidfVectorizer(stop_words='english')\n",
    "\n",
    "#Replace NaN with an empty string\n",
    "df['overview'] = df['overview'].fillna('')\n",
    "\n",
    "#Construct the required TF-IDF matrix by fitting and transforming the data\n",
    "tfidf_matrix = tfidf.fit_transform(df['overview'])\n",
    "\n",
    "#Output the shape of tfidf_matrix\n",
    "print(tfidf_matrix.shape)\n",
    "\n",
    "# Compute the cosine similarity matrix\n",
    "cosine_sim = linear_kernel(tfidf_matrix, tfidf_matrix)\n",
    "print(cosine_sim)\n",
    "indices = pd.Series(df.index, index=df['Title']).drop_duplicates()"
   ]
  },
  {
   "cell_type": "markdown",
   "metadata": {},
   "source": [
    "we can use the same get_recommendations fuction without defining it again "
   ]
  },
  {
   "cell_type": "code",
   "execution_count": 13,
   "metadata": {},
   "outputs": [
    {
     "data": {
      "text/plain": [
       "['The_Wolf_and_the_Crane', 'The_Lion_and_the_Mouse', 'The_Dog_and_the_Shadow']"
      ]
     },
     "execution_count": 13,
     "metadata": {},
     "output_type": "execute_result"
    }
   ],
   "source": [
    "get_recommendations('The_Wolf_and_the_Lamb')"
   ]
  },
  {
   "cell_type": "code",
   "execution_count": 14,
   "metadata": {},
   "outputs": [
    {
     "data": {
      "text/plain": [
       "['The_Town_Mouse_and_the_Country_Mouse', 'The_Lions_Share', 'The_Sick_Lion']"
      ]
     },
     "execution_count": 14,
     "metadata": {},
     "output_type": "execute_result"
    }
   ],
   "source": [
    "get_recommendations('The_Lion_and_the_Mouse')"
   ]
  },
  {
   "cell_type": "code",
   "execution_count": 15,
   "metadata": {},
   "outputs": [
    {
     "data": {
      "text/plain": [
       "['The_Lion_and_the_Mouse', 'The_Sick_Lion', 'The_Fox_and_the_Crow']"
      ]
     },
     "execution_count": 15,
     "metadata": {},
     "output_type": "execute_result"
    }
   ],
   "source": [
    "get_recommendations('The_Lions_Share')"
   ]
  },
  {
   "cell_type": "markdown",
   "metadata": {},
   "source": [
    "In the first output we can see that stories relating to the word \"Wolf\" have come up first in the recommended list.\n",
    "Same is the case for the next two.\n",
    "\n",
    "So we have successfully built a recommendation engine to find closely related book to the one in question. The above function can be edited to output 'N' number of books.\n"
   ]
  }
 ],
 "metadata": {
  "kernelspec": {
   "display_name": "Python [conda env:Anaconda3]",
   "language": "python",
   "name": "conda-env-Anaconda3-py"
  },
  "language_info": {
   "codemirror_mode": {
    "name": "ipython",
    "version": 3
   },
   "file_extension": ".py",
   "mimetype": "text/x-python",
   "name": "python",
   "nbconvert_exporter": "python",
   "pygments_lexer": "ipython3",
   "version": "3.5.5"
  }
 },
 "nbformat": 4,
 "nbformat_minor": 2
}
